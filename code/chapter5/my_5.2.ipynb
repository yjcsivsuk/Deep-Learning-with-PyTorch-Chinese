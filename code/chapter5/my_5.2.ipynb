{
 "cells": [
  {
   "cell_type": "markdown",
   "metadata": {},
   "source": [
    "# 5.2 PyTorch的nn模块"
   ]
  },
  {
   "cell_type": "code",
   "execution_count": 144,
   "metadata": {},
   "outputs": [],
   "source": [
    "import torch\n",
    "import torch.nn as nn\n",
    "import torch.optim as optim\n",
    "from collections import OrderedDict\n",
    "from matplotlib import pyplot as plt"
   ]
  },
  {
   "cell_type": "code",
   "execution_count": 95,
   "metadata": {},
   "outputs": [
    {
     "data": {
      "text/plain": [
       "torch.Size([11, 1])"
      ]
     },
     "execution_count": 95,
     "metadata": {},
     "output_type": "execute_result"
    }
   ],
   "source": [
    "t_c = [0.5,  14.0, 15.0, 28.0, 11.0,  8.0,  3.0, -4.0,  6.0, 13.0, 21.0]\n",
    "t_u = [35.7, 55.9, 58.2, 81.9, 56.3, 48.9, 33.9, 21.8, 48.4, 60.4, 68.4]\n",
    "# 这里需要unsqueeze操作，将张量添加一维，变成矩阵。\n",
    "# 该矩阵每一行代表每个样本，每列代表所有样本的某个特征。\n",
    "t_c = torch.tensor(t_c).unsqueeze(1)\n",
    "t_u = torch.tensor(t_u).unsqueeze(1)\n",
    "t_c.shape"
   ]
  },
  {
   "cell_type": "code",
   "execution_count": 96,
   "metadata": {},
   "outputs": [
    {
     "data": {
      "text/plain": [
       "(tensor([ 7,  2,  8,  9,  6, 10,  3,  0,  1]), tensor([5, 4]))"
      ]
     },
     "execution_count": 96,
     "metadata": {},
     "output_type": "execute_result"
    }
   ],
   "source": [
    "n_samples = t_u.shape[0]\n",
    "n_val = int(0.2 * n_samples)\n",
    "\n",
    "shuffled_indices = torch.randperm(n_samples)\n",
    "\n",
    "train_indices = shuffled_indices[:-n_val]\n",
    "val_indices = shuffled_indices[-n_val:]\n",
    "\n",
    "train_indices, val_indices"
   ]
  },
  {
   "cell_type": "code",
   "execution_count": 97,
   "metadata": {},
   "outputs": [],
   "source": [
    "t_u_train = t_u[train_indices]\n",
    "t_c_train = t_c[train_indices]\n",
    "\n",
    "t_u_val = t_u[val_indices]\n",
    "t_c_val = t_c[val_indices]\n",
    "\n",
    "t_un_train = 0.1 * t_u_train\n",
    "t_un_val = 0.1 * t_u_val"
   ]
  },
  {
   "cell_type": "code",
   "execution_count": 98,
   "metadata": {},
   "outputs": [
    {
     "data": {
      "text/plain": [
       "tensor([[3.1929],\n",
       "        [3.5636]], grad_fn=<AddmmBackward0>)"
      ]
     },
     "execution_count": 98,
     "metadata": {},
     "output_type": "execute_result"
    }
   ],
   "source": [
    "linear_model = nn.Linear(1, 1) # 参数: input size, output size, bias(默认True)\n",
    "linear_model(t_un_val)"
   ]
  },
  {
   "cell_type": "code",
   "execution_count": null,
   "metadata": {},
   "outputs": [],
   "source": [
    "linear_model.forward(t_un_val) # 虽然输出结果是一样的但不应该这样做!!"
   ]
  },
  {
   "cell_type": "code",
   "execution_count": 106,
   "metadata": {},
   "outputs": [
    {
     "data": {
      "text/plain": [
       "Parameter containing:\n",
       "tensor([[0.1614]], requires_grad=True)"
      ]
     },
     "execution_count": 106,
     "metadata": {},
     "output_type": "execute_result"
    }
   ],
   "source": [
    "linear_model.weight"
   ]
  },
  {
   "cell_type": "code",
   "execution_count": 107,
   "metadata": {},
   "outputs": [
    {
     "data": {
      "text/plain": [
       "Parameter containing:\n",
       "tensor([0.1657], requires_grad=True)"
      ]
     },
     "execution_count": 107,
     "metadata": {},
     "output_type": "execute_result"
    }
   ],
   "source": [
    "linear_model.bias"
   ]
  },
  {
   "cell_type": "code",
   "execution_count": 108,
   "metadata": {},
   "outputs": [
    {
     "data": {
      "text/plain": [
       "tensor([0.3271], grad_fn=<ViewBackward0>)"
      ]
     },
     "execution_count": 108,
     "metadata": {},
     "output_type": "execute_result"
    }
   ],
   "source": [
    "x = torch.ones(1)\n",
    "linear_model(x)"
   ]
  },
  {
   "cell_type": "markdown",
   "metadata": {},
   "source": [
    "上面的代码只对一个样本有效，需要创建大小为 B x Nin 的输入张量，其中 B 是批次的大小，而 Nin 是输入特征的数量，然后在模型中同时运行。\n",
    "`模型希望输入的第0维为这个批次中的样本数目。这里假设对10个样本运行`"
   ]
  },
  {
   "cell_type": "code",
   "execution_count": 109,
   "metadata": {},
   "outputs": [
    {
     "data": {
      "text/plain": [
       "tensor([[0.3271],\n",
       "        [0.3271],\n",
       "        [0.3271],\n",
       "        [0.3271],\n",
       "        [0.3271],\n",
       "        [0.3271],\n",
       "        [0.3271],\n",
       "        [0.3271],\n",
       "        [0.3271],\n",
       "        [0.3271]], grad_fn=<AddmmBackward0>)"
      ]
     },
     "execution_count": 109,
     "metadata": {},
     "output_type": "execute_result"
    }
   ],
   "source": [
    "x = torch.ones(10, 1)\n",
    "linear_model(x)"
   ]
  },
  {
   "cell_type": "code",
   "execution_count": 110,
   "metadata": {},
   "outputs": [],
   "source": [
    "linear_model=nn.Linear(1,1)\n",
    "optimizer=optim.SGD(linear_model.parameters(),lr=1e-2)"
   ]
  },
  {
   "cell_type": "code",
   "execution_count": 104,
   "metadata": {},
   "outputs": [
    {
     "data": {
      "text/plain": [
       "<generator object Module.parameters at 0x150f52c00>"
      ]
     },
     "execution_count": 104,
     "metadata": {},
     "output_type": "execute_result"
    }
   ],
   "source": [
    "linear_model.parameters()"
   ]
  },
  {
   "cell_type": "code",
   "execution_count": 105,
   "metadata": {},
   "outputs": [
    {
     "data": {
      "text/plain": [
       "[Parameter containing:\n",
       " tensor([[0.1614]], requires_grad=True),\n",
       " Parameter containing:\n",
       " tensor([0.1657], requires_grad=True)]"
      ]
     },
     "execution_count": 105,
     "metadata": {},
     "output_type": "execute_result"
    }
   ],
   "source": [
    "list(linear_model.parameters())"
   ]
  },
  {
   "cell_type": "code",
   "execution_count": 111,
   "metadata": {},
   "outputs": [],
   "source": [
    "# 使用nn.Linear模型来进行训练循环\n",
    "def training_loop(n_epochs,optimizer,model,loss_fn,t_u_train,t_u_val,t_c_train,t_c_val,print_params=False,verbose=1000):\n",
    "    for epoch in range(1,n_epochs+1):\n",
    "        t_p_train=model(t_un_train) # 使用模型，在训练集上运行，得到训练集上的预测值\n",
    "        loss_train=loss_fn(t_p_train,t_c_train) # 训练集上的误差\n",
    "        t_p_val=model(t_un_val) # 使用模型，在验证集上运行，得到验证集上的预测值\n",
    "        loss_val=loss_fn(t_p_val,t_c_val) # 验证集上的误差\n",
    "        optimizer.zero_grad()\n",
    "        loss_train.backward()\n",
    "        optimizer.step()\n",
    "        if(epoch<=3 or epoch%verbose==0):\n",
    "            print('Epoch %d, Training loss %.4f, Validation loss %.4f' %(epoch,float(loss_train),float(loss_val)))"
   ]
  },
  {
   "cell_type": "markdown",
   "metadata": {},
   "source": [
    "在使用nn中的模型时，不能像之前那样显式的将params传入model中，因为nn中的模型本身内部就有parameters。"
   ]
  },
  {
   "cell_type": "code",
   "execution_count": 112,
   "metadata": {},
   "outputs": [
    {
     "name": "stdout",
     "output_type": "stream",
     "text": [
      "Epoch 1, Training loss 298.8854, Validation loss 155.2460\n",
      "Epoch 2, Training loss 76.5778, Validation loss 8.7852\n",
      "Epoch 3, Training loss 43.2075, Validation loss 1.5856\n",
      "Epoch 1000, Training loss 3.5645, Validation loss 3.9228\n",
      "Epoch 2000, Training loss 2.9793, Validation loss 3.3781\n",
      "Epoch 3000, Training loss 2.9693, Validation loss 3.3140\n"
     ]
    },
    {
     "data": {
      "text/plain": [
       "(Parameter containing:\n",
       " tensor([[5.3834]], requires_grad=True),\n",
       " Parameter containing:\n",
       " tensor([-17.0641], requires_grad=True))"
      ]
     },
     "execution_count": 112,
     "metadata": {},
     "output_type": "execute_result"
    }
   ],
   "source": [
    "# 调用nn.Linear模型来进行训练，损失函数使用nn中的MSELoss\n",
    "training_loop(n_epochs=3000,optimizer=optimizer,model=linear_model,loss_fn=nn.MSELoss(),t_u_train=t_un_train,t_u_val=t_un_val,t_c_train=t_c_train,t_c_val=t_c_val)\n",
    "linear_model.weight,linear_model.bias"
   ]
  },
  {
   "cell_type": "markdown",
   "metadata": {},
   "source": [
    "使用神经网络定义模型，通过nn.Sequential容器串联模块，该模型将1个输入特征散开为13个隐藏特征，然后将通过tanh激活函数，最后将得到的13个数字线性组合为1个输出特征。"
   ]
  },
  {
   "cell_type": "code",
   "execution_count": 113,
   "metadata": {},
   "outputs": [
    {
     "data": {
      "text/plain": [
       "Sequential(\n",
       "  (0): Linear(in_features=1, out_features=13, bias=True)\n",
       "  (1): Tanh()\n",
       "  (2): Linear(in_features=13, out_features=1, bias=True)\n",
       ")"
      ]
     },
     "execution_count": 113,
     "metadata": {},
     "output_type": "execute_result"
    }
   ],
   "source": [
    "seq_model=nn.Sequential(\n",
    "    nn.Linear(1,13),\n",
    "    nn.Tanh(),\n",
    "    nn.Linear(13,1)\n",
    ")\n",
    "seq_model"
   ]
  },
  {
   "cell_type": "code",
   "execution_count": 114,
   "metadata": {},
   "outputs": [
    {
     "data": {
      "text/plain": [
       "<generator object Module.parameters at 0x150f51e00>"
      ]
     },
     "execution_count": 114,
     "metadata": {},
     "output_type": "execute_result"
    }
   ],
   "source": [
    "seq_model.parameters()"
   ]
  },
  {
   "cell_type": "code",
   "execution_count": 115,
   "metadata": {},
   "outputs": [
    {
     "data": {
      "text/plain": [
       "[Parameter containing:\n",
       " tensor([[ 0.2763],\n",
       "         [ 0.5648],\n",
       "         [ 0.0122],\n",
       "         [ 0.3773],\n",
       "         [ 0.5817],\n",
       "         [ 0.2924],\n",
       "         [ 0.4138],\n",
       "         [-0.3752],\n",
       "         [ 0.2027],\n",
       "         [-0.5391],\n",
       "         [ 0.4525],\n",
       "         [-0.8015],\n",
       "         [ 0.6377]], requires_grad=True),\n",
       " Parameter containing:\n",
       " tensor([-8.3552e-01, -5.0123e-02,  9.3605e-01,  5.2474e-01,  6.0475e-01,\n",
       "         -7.1820e-01, -3.6183e-02, -3.9863e-01,  8.2841e-01, -1.3900e-04,\n",
       "         -3.1943e-01, -2.4918e-01, -3.6005e-01], requires_grad=True),\n",
       " Parameter containing:\n",
       " tensor([[ 0.0838,  0.0462, -0.0477,  0.2026, -0.1505, -0.0462,  0.0485, -0.0545,\n",
       "           0.2578, -0.0470, -0.1084,  0.1363,  0.0259]], requires_grad=True),\n",
       " Parameter containing:\n",
       " tensor([-0.0099], requires_grad=True)]"
      ]
     },
     "execution_count": 115,
     "metadata": {},
     "output_type": "execute_result"
    }
   ],
   "source": [
    "list(seq_model.parameters())"
   ]
  },
  {
   "cell_type": "code",
   "execution_count": 117,
   "metadata": {},
   "outputs": [
    {
     "name": "stdout",
     "output_type": "stream",
     "text": [
      "torch.Size([13, 1])\n",
      "torch.Size([13])\n",
      "torch.Size([1, 13])\n",
      "torch.Size([1])\n"
     ]
    }
   ],
   "source": [
    "for param in seq_model.parameters():\n",
    "    print(param.shape)"
   ]
  },
  {
   "cell_type": "markdown",
   "metadata": {},
   "source": [
    "有关nn.Modules参数的一些注意事项：当你检查由几个子模块组成的模型的参数时，可以方便地通过其名称识别参数。这个方法叫做named_parameters："
   ]
  },
  {
   "cell_type": "code",
   "execution_count": 122,
   "metadata": {},
   "outputs": [
    {
     "name": "stdout",
     "output_type": "stream",
     "text": [
      "hidden_linear.weight torch.Size([13, 1])\n",
      "hidden_linear.bias torch.Size([13])\n",
      "output_linear.weight torch.Size([1, 8])\n",
      "output_linear.bias torch.Size([1])\n"
     ]
    }
   ],
   "source": [
    "for(name,param) in seq_model.named_parameters():\n",
    "    print(name,param.shape)"
   ]
  },
  {
   "cell_type": "markdown",
   "metadata": {},
   "source": [
    "使用OrderedDict，给sequential的每个模块命名"
   ]
  },
  {
   "cell_type": "code",
   "execution_count": 139,
   "metadata": {},
   "outputs": [
    {
     "data": {
      "text/plain": [
       "Sequential(\n",
       "  (hidden_linear): Linear(in_features=1, out_features=8, bias=True)\n",
       "  (hidden_activation): Tanh()\n",
       "  (output_linear): Linear(in_features=8, out_features=1, bias=True)\n",
       ")"
      ]
     },
     "execution_count": 139,
     "metadata": {},
     "output_type": "execute_result"
    }
   ],
   "source": [
    "seq_model=nn.Sequential(OrderedDict([\n",
    "    ('hidden_linear',nn.Linear(1,8)),\n",
    "    ('hidden_activation',nn.Tanh()),\n",
    "    ('output_linear',nn.Linear(8,1))\n",
    "]))\n",
    "seq_model"
   ]
  },
  {
   "cell_type": "code",
   "execution_count": 140,
   "metadata": {},
   "outputs": [
    {
     "name": "stdout",
     "output_type": "stream",
     "text": [
      "hidden_linear.weight torch.Size([8, 1])\n",
      "hidden_linear.bias torch.Size([8])\n",
      "output_linear.weight torch.Size([1, 8])\n",
      "output_linear.bias torch.Size([1])\n"
     ]
    }
   ],
   "source": [
    "for(name,param) in seq_model.named_parameters():\n",
    "    print(name,param.shape)"
   ]
  },
  {
   "cell_type": "code",
   "execution_count": 141,
   "metadata": {},
   "outputs": [
    {
     "data": {
      "text/plain": [
       "[Parameter containing:\n",
       " tensor([[ 0.6059],\n",
       "         [ 0.7741],\n",
       "         [ 0.3783],\n",
       "         [ 0.9266],\n",
       "         [-0.5072],\n",
       "         [ 0.6221],\n",
       "         [-0.9123],\n",
       "         [-0.9463]], requires_grad=True),\n",
       " Parameter containing:\n",
       " tensor([-0.1607,  0.2939, -0.2049,  0.4546, -0.2915, -0.2622,  0.6386,  0.5461],\n",
       "        requires_grad=True),\n",
       " Parameter containing:\n",
       " tensor([[ 0.2607,  0.3371,  0.1632, -0.0905,  0.1424, -0.1937, -0.0913,  0.2417]],\n",
       "        requires_grad=True),\n",
       " Parameter containing:\n",
       " tensor([-0.2149], requires_grad=True)]"
      ]
     },
     "execution_count": 141,
     "metadata": {},
     "output_type": "execute_result"
    }
   ],
   "source": [
    "list(seq_model.parameters())"
   ]
  },
  {
   "cell_type": "code",
   "execution_count": 142,
   "metadata": {},
   "outputs": [
    {
     "data": {
      "text/plain": [
       "[Parameter containing:\n",
       " tensor([[ 0.6059],\n",
       "         [ 0.7741],\n",
       "         [ 0.3783],\n",
       "         [ 0.9266],\n",
       "         [-0.5072],\n",
       "         [ 0.6221],\n",
       "         [-0.9123],\n",
       "         [-0.9463]], requires_grad=True),\n",
       " Parameter containing:\n",
       " tensor([-0.1607,  0.2939, -0.2049,  0.4546, -0.2915, -0.2622,  0.6386,  0.5461],\n",
       "        requires_grad=True)]"
      ]
     },
     "execution_count": 142,
     "metadata": {},
     "output_type": "execute_result"
    }
   ],
   "source": [
    "list(seq_model.hidden_linear.parameters())"
   ]
  },
  {
   "cell_type": "markdown",
   "metadata": {},
   "source": [
    "在训练循环中，打印出隐藏层线性部分的权重的梯度"
   ]
  },
  {
   "cell_type": "code",
   "execution_count": 143,
   "metadata": {},
   "outputs": [
    {
     "name": "stdout",
     "output_type": "stream",
     "text": [
      "Epoch 1, Training loss 209.1934, Validation loss 93.2512\n",
      "Epoch 2, Training loss 205.0484, Validation loss 89.6146\n",
      "Epoch 3, Training loss 201.0435, Validation loss 86.1117\n",
      "Epoch 1000, Training loss 5.3030, Validation loss 3.8151\n",
      "Epoch 2000, Training loss 4.7333, Validation loss 0.6234\n",
      "Epoch 3000, Training loss 3.1919, Validation loss 0.5104\n",
      "Epoch 4000, Training loss 2.5917, Validation loss 0.4785\n",
      "Epoch 5000, Training loss 2.2415, Validation loss 0.5371\n",
      "output tensor([[ 8.1143],\n",
      "        [12.9778]], grad_fn=<AddmmBackward0>)\n",
      "answer tensor([[ 8.],\n",
      "        [11.]])\n",
      "hidden tensor([[-1.5977e+01],\n",
      "        [-3.1915e-01],\n",
      "        [-1.6034e+01],\n",
      "        [ 3.0708e-03],\n",
      "        [ 4.5067e-01],\n",
      "        [-1.2712e+01],\n",
      "        [ 1.5335e+01],\n",
      "        [ 9.1021e-01]])\n"
     ]
    }
   ],
   "source": [
    "optimizer=optim.SGD(seq_model.parameters(),lr=1e-3)\n",
    "training_loop(\n",
    "    n_epochs=5000,\n",
    "    optimizer=optimizer,\n",
    "    model=seq_model,\n",
    "    loss_fn=nn.MSELoss(),\n",
    "    t_u_train=t_un_train,\n",
    "    t_u_val=t_un_val,\n",
    "    t_c_train=t_c_train,\n",
    "    t_c_val=t_c_val\n",
    ")\n",
    "print('output',seq_model(t_un_val))\n",
    "print('answer',t_c_val)\n",
    "print('hidden',seq_model.hidden_linear.weight.grad)"
   ]
  },
  {
   "cell_type": "code",
   "execution_count": 154,
   "metadata": {},
   "outputs": [
    {
     "data": {
      "image/png": "[encoded data removed]",
      "text/plain": [
       "<Figure size 640x480 with 1 Axes>"
      ]
     },
     "metadata": {},
     "output_type": "display_data"
    }
   ],
   "source": [
    "t_range = torch.arange(20., 90.).unsqueeze(1)\n",
    "\n",
    "fig = plt.figure(dpi=100)\n",
    "plt.xlabel(\"Fahrenheit\")\n",
    "plt.ylabel(\"Celsius\")\n",
    "plt.plot(t_u.numpy(), t_c.numpy(), 'o')\n",
    "plt.plot(t_range.numpy(), seq_model(0.1 * t_range).detach().numpy(), 'c-')\n",
    "plt.plot(t_u.numpy(), seq_model(0.1 * t_u).detach().numpy(), 'kx')\n",
    "plt.show()"
   ]
  },
  {
   "cell_type": "markdown",
   "metadata": {},
   "source": [
    "神经网络模型图示：输入数据（圆形），期望输出（叉号）和显示样本之间行为的连续曲线"
   ]
  }
 ],
 "metadata": {
  "kernelspec": {
   "display_name": "base",
   "language": "python",
   "name": "python3"
  },
  "language_info": {
   "codemirror_mode": {
    "name": "ipython",
    "version": 3
   },
   "file_extension": ".py",
   "mimetype": "text/x-python",
   "name": "python",
   "nbconvert_exporter": "python",
   "pygments_lexer": "ipython3",
   "version": "3.11.7"
  }
 },
 "nbformat": 4,
 "nbformat_minor": 2
}
